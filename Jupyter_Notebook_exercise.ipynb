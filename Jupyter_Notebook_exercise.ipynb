{
  "metadata": {
    "kernelspec": {
      "name": "python",
      "display_name": "Pyolite",
      "language": "python"
    },
    "language_info": {
      "codemirror_mode": {
        "name": "python",
        "version": 3
      },
      "file_extension": ".py",
      "mimetype": "text/x-python",
      "name": "python",
      "nbconvert_exporter": "python",
      "pygments_lexer": "ipython3",
      "version": "3.8"
    }
  },
  "nbformat_minor": 4,
  "nbformat": 4,
  "cells": [
    {
      "cell_type": "markdown",
      "source": "<center>\n    <img src=\"https://s3-api.us-geo.objectstorage.softlayer.net/cf-courses-data/CognitiveClass/Logos/organization_logo/organization_logo.png\" width=\"300\" alt=\"cognitiveclass.ai logo\"  />\n</center>\n",
      "metadata": {}
    },
    {
      "cell_type": "markdown",
      "source": "#### Add your code below following the instructions given in the course\n",
      "metadata": {}
    },
    {
      "cell_type": "markdown",
      "source": "# My Jupyter Notebook on IBM Watson Studio",
      "metadata": {}
    },
    {
      "cell_type": "markdown",
      "source": "**Carolina Marinho da Silva**\n\nGeograph\n",
      "metadata": {}
    },
    {
      "cell_type": "markdown",
      "source": "*I am interested in Data Science because I would be able to solve problems in that new world.*\n",
      "metadata": {}
    },
    {
      "cell_type": "markdown",
      "source": "### Simple code",
      "metadata": {
        "jupyter": {
          "outputs_hidden": true
        },
        "tags": []
      }
    },
    {
      "cell_type": "code",
      "source": "print(1+1)",
      "metadata": {
        "trusted": true
      },
      "execution_count": 5,
      "outputs": [
        {
          "name": "stdout",
          "text": "2\n",
          "output_type": "stream"
        }
      ]
    },
    {
      "cell_type": "markdown",
      "source": "[LinKedIn](https://www.linkedin.com/in/carolina-marinho-93644b79/)\n* You can add me in your linkedin to:\n1.Network;\n\n2.Change experiences about data.",
      "metadata": {}
    },
    {
      "cell_type": "code",
      "source": "",
      "metadata": {},
      "execution_count": null,
      "outputs": []
    },
    {
      "cell_type": "code",
      "source": "",
      "metadata": {},
      "execution_count": null,
      "outputs": []
    }
  ]
}